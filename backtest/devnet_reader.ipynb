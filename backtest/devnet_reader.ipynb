{
 "cells": [
  {
   "cell_type": "code",
   "execution_count": null,
   "id": "41305d0a-6c6b-4a8b-b337-ee4093a7f912",
   "metadata": {},
   "outputs": [],
   "source": [
    "%reload_ext autoreload\n",
    "%autoreload 2\n",
    "\n",
    "import sys\n",
    "sys.path.insert(0, '../')\n",
    "sys.path.insert(0, '../driftpy/src/')\n",
    "\n",
    "import pandas as pd \n",
    "import numpy as np \n",
    "\n",
    "pd.options.plotting.backend = \"plotly\""
   ]
  },
  {
   "cell_type": "code",
   "execution_count": null,
   "id": "5534e32f-8d9b-4bcf-80be-b1ebe86fc1b9",
   "metadata": {},
   "outputs": [],
   "source": [
    "def human_amm_df(amm: AMM):\n",
    "    bool_fields = [ 'last_oracle_valid']\n",
    "    enum_fields = ['oracle_source']\n",
    "    pure_fields = ['last_update_slot', 'long_intensity_count', 'short_intensity_count', \n",
    "    'curve_update_intensity', 'amm_jit_intensity'\n",
    "    ]\n",
    "    reserve_fields = [\n",
    "        'base_asset_reserve', 'quote_asset_reserve', 'min_base_asset_reserve', 'max_base_asset_reserve', 'sqrt_k'\n",
    "        'ask_base_asset_reserve', 'ask_quote_asset_reserve', 'bid_base_asset_reserve', 'bid_quote_asset_reserve'\n",
    "        'terminal_quote_asset_reserve', 'base_asset_amount_long', 'base_asset_amount_short', 'base_asset_amount_with_amm', 'base_asset_amount_with_unsettled_lp',\n",
    "        'user_lp_shares'\n",
    "        ]\n",
    "    pct_fields = ['long_spread', 'short_spread', 'concentration_coef',]\n",
    "    funding_fields = ['cumulative_funding_rate_long', 'cumulative_funding_rate_short', 'last_funding_rate', 'last_funding_rate_long', 'last_funding_rate_short', 'last24h_avg_funding_rate']\n",
    "    quote_asset_fields = ['total_fee', 'total_mm_fee', 'total_exchange_fee', 'total_fee_minus_distributions',\n",
    "    'total_fee_withdrawn', 'total_liquidation_fee', 'cumulative_social_loss', 'net_revenue_since_last_funding',\n",
    "    'quote_asset_amount_long', 'quote_asset_amount_short', 'quote_entry_amount_long', 'quote_entry_amount_short',\n",
    "    'volume24h', 'long_intensity_volume', 'short_intensity_volume',]\n",
    "    time_fields = ['last_mark_price_twap_ts', 'last_oracle_price_twap_ts']\n",
    "    duration_fields = ['lp_cooldown_time']\n",
    "    px_fields = ['last_bid_price_twap', 'last_ask_price_twap', 'last_mark_price_twap', 'last_mark_price_twap5min',\n",
    "    'peg_multiplier',\n",
    "    'mark_std']\n",
    "    pool_fields = ['fee_pool']\n",
    "\n",
    "\n",
    "def human_market_df(market: PerpMarket):\n",
    "    enum_fields = ['status', 'contract_tier', '']\n",
    "    pure_fields = ['number_of_users', 'market_index', 'next_curve_record_id', 'next_fill_record_id', 'next_funding_rate_record_id']\n",
    "    pct_fields = ['imf_factor', 'unrealized_pnl_imf_factor', 'liquidator_fee', 'if_liquidation_fee',\n",
    "    'margin_ratio_initial', 'margin_ratio_maintenance']\n",
    "    px_fields = ['expiry_price', ]\n",
    "    time_fields = ['last_trade_ts', 'expiry_ts']\n",
    "    pool_fields = ['pnl_pool']"
   ]
  },
  {
   "cell_type": "code",
   "execution_count": 16,
   "id": "a9c400e5-5178-4494-84c4-56b0c6111f94",
   "metadata": {},
   "outputs": [],
   "source": [
    "from driftpy.constants.config import configs\n",
    "from anchorpy import Provider, Wallet\n",
    "from solana.keypair import Keypair\n",
    "from solana.rpc.async_api import AsyncClient\n",
    "from driftpy.clearing_house import ClearingHouse\n",
    "from driftpy.accounts import *\n",
    "from driftpy.constants.numeric_constants import * "
   ]
  },
  {
   "cell_type": "code",
   "execution_count": 17,
   "id": "0ff80e2b-3ee9-4ded-aea6-88c4f06eee2c",
   "metadata": {},
   "outputs": [
    {
     "name": "stdout",
     "output_type": "stream",
     "text": [
      "pk: E7iAhFMa9KvwhJtaPpoqJE4wPZb16zj2Az7PM9YdWK15\n"
     ]
    }
   ],
   "source": [
    "config = configs['devnet']\n",
    "url = 'https://api.devnet.solana.com'\n",
    "import json\n",
    "\n",
    "# random key \n",
    "with open('/Users/zanes//.config/solana/devnetAdmin.json', 'r') as f: secret = json.load(f) \n",
    "kp = Keypair.from_secret_key(bytes(secret))\n",
    "print('pk:', kp.public_key)\n",
    "wallet = Wallet(kp)\n",
    "connection = AsyncClient(url)\n",
    "provider = Provider(connection, wallet)\n",
    "ch = ClearingHouse.from_config(config, provider)"
   ]
  },
  {
   "cell_type": "code",
   "execution_count": 21,
   "id": "28f75596-5dc9-4a1d-babd-6518c6b96483",
   "metadata": {},
   "outputs": [
    {
     "ename": "AccountDoesNotExistError",
     "evalue": "Account DudYysP7wRT9iCkKfuWVNKbM9kCxs3Nzyf7UsWoihwt5 does not exist",
     "output_type": "error",
     "traceback": [
      "\u001b[0;31m---------------------------------------------------------------------------\u001b[0m",
      "\u001b[0;31mAccountDoesNotExistError\u001b[0m                  Traceback (most recent call last)",
      "Input \u001b[0;32mIn [21]\u001b[0m, in \u001b[0;36m<cell line: 1>\u001b[0;34m()\u001b[0m\n\u001b[0;32m----> 1\u001b[0m market \u001b[38;5;241m=\u001b[39m \u001b[38;5;28;01mawait\u001b[39;00m get_perp_market_account(ch\u001b[38;5;241m.\u001b[39mprogram, \u001b[38;5;241m0\u001b[39m)\n",
      "File \u001b[0;32m~/Documents/drift-sim/venv/lib/python3.10/site-packages/driftpy/accounts.py:62\u001b[0m, in \u001b[0;36mget_perp_market_account\u001b[0;34m(program, market_index)\u001b[0m\n\u001b[1;32m     60\u001b[0m \u001b[38;5;28;01masync\u001b[39;00m \u001b[38;5;28;01mdef\u001b[39;00m \u001b[38;5;21mget_perp_market_account\u001b[39m(program: Program, market_index: \u001b[38;5;28mint\u001b[39m) \u001b[38;5;241m-\u001b[39m\u001b[38;5;241m>\u001b[39m PerpMarket:\n\u001b[1;32m     61\u001b[0m     market_public_key \u001b[38;5;241m=\u001b[39m get_perp_market_public_key(program\u001b[38;5;241m.\u001b[39mprogram_id, market_index)\n\u001b[0;32m---> 62\u001b[0m     response \u001b[38;5;241m=\u001b[39m \u001b[38;5;28;01mawait\u001b[39;00m program\u001b[38;5;241m.\u001b[39maccount[\u001b[38;5;124m\"\u001b[39m\u001b[38;5;124mPerpMarket\u001b[39m\u001b[38;5;124m\"\u001b[39m]\u001b[38;5;241m.\u001b[39mfetch(market_public_key)\n\u001b[1;32m     63\u001b[0m     \u001b[38;5;28;01mreturn\u001b[39;00m cast(PerpMarket, response)\n",
      "File \u001b[0;32m~/Documents/drift-sim/venv/lib/python3.10/site-packages/anchorpy/program/namespace/account.py:105\u001b[0m, in \u001b[0;36mAccountClient.fetch\u001b[0;34m(self, address, commitment)\u001b[0m\n\u001b[1;32m     99\u001b[0m account_info \u001b[38;5;241m=\u001b[39m \u001b[38;5;28;01mawait\u001b[39;00m \u001b[38;5;28mself\u001b[39m\u001b[38;5;241m.\u001b[39m_provider\u001b[38;5;241m.\u001b[39mconnection\u001b[38;5;241m.\u001b[39mget_account_info(\n\u001b[1;32m    100\u001b[0m     address,\n\u001b[1;32m    101\u001b[0m     encoding\u001b[38;5;241m=\u001b[39m\u001b[38;5;124m\"\u001b[39m\u001b[38;5;124mbase64\u001b[39m\u001b[38;5;124m\"\u001b[39m,\n\u001b[1;32m    102\u001b[0m     commitment\u001b[38;5;241m=\u001b[39mcommitment,\n\u001b[1;32m    103\u001b[0m )\n\u001b[1;32m    104\u001b[0m \u001b[38;5;28;01mif\u001b[39;00m \u001b[38;5;129;01mnot\u001b[39;00m account_info[\u001b[38;5;124m\"\u001b[39m\u001b[38;5;124mresult\u001b[39m\u001b[38;5;124m\"\u001b[39m][\u001b[38;5;124m\"\u001b[39m\u001b[38;5;124mvalue\u001b[39m\u001b[38;5;124m\"\u001b[39m]:\n\u001b[0;32m--> 105\u001b[0m     \u001b[38;5;28;01mraise\u001b[39;00m AccountDoesNotExistError(\u001b[38;5;124mf\u001b[39m\u001b[38;5;124m\"\u001b[39m\u001b[38;5;124mAccount \u001b[39m\u001b[38;5;132;01m{\u001b[39;00maddress\u001b[38;5;132;01m}\u001b[39;00m\u001b[38;5;124m does not exist\u001b[39m\u001b[38;5;124m\"\u001b[39m)\n\u001b[1;32m    106\u001b[0m data \u001b[38;5;241m=\u001b[39m base64\u001b[38;5;241m.\u001b[39mb64decode(account_info[\u001b[38;5;124m\"\u001b[39m\u001b[38;5;124mresult\u001b[39m\u001b[38;5;124m\"\u001b[39m][\u001b[38;5;124m\"\u001b[39m\u001b[38;5;124mvalue\u001b[39m\u001b[38;5;124m\"\u001b[39m][\u001b[38;5;124m\"\u001b[39m\u001b[38;5;124mdata\u001b[39m\u001b[38;5;124m\"\u001b[39m][\u001b[38;5;241m0\u001b[39m])\n\u001b[1;32m    107\u001b[0m discriminator \u001b[38;5;241m=\u001b[39m _account_discriminator(\u001b[38;5;28mself\u001b[39m\u001b[38;5;241m.\u001b[39m_idl_account\u001b[38;5;241m.\u001b[39mname)\n",
      "\u001b[0;31mAccountDoesNotExistError\u001b[0m: Account DudYysP7wRT9iCkKfuWVNKbM9kCxs3Nzyf7UsWoihwt5 does not exist"
     ]
    }
   ],
   "source": [
    "market = await get_perp_market_account(ch.program, 0)\n"
   ]
  },
  {
   "cell_type": "code",
   "execution_count": null,
   "id": "7c9e689d-39b4-4407-8a81-4a3286c22108",
   "metadata": {},
   "outputs": [],
   "source": []
  }
 ],
 "metadata": {
  "kernelspec": {
   "display_name": "Python 3 (ipykernel)",
   "language": "python",
   "name": "python3"
  },
  "language_info": {
   "codemirror_mode": {
    "name": "ipython",
    "version": 3
   },
   "file_extension": ".py",
   "mimetype": "text/x-python",
   "name": "python",
   "nbconvert_exporter": "python",
   "pygments_lexer": "ipython3",
   "version": "3.10.6"
  }
 },
 "nbformat": 4,
 "nbformat_minor": 5
}
