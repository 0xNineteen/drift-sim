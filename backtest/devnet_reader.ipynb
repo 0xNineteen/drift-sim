{
 "cells": [
  {
   "cell_type": "code",
   "execution_count": null,
   "id": "41305d0a-6c6b-4a8b-b337-ee4093a7f912",
   "metadata": {},
   "outputs": [],
   "source": [
    "%reload_ext autoreload\n",
    "%autoreload 2\n",
    "\n",
    "import sys\n",
    "sys.path.insert(0, '../')\n",
    "sys.path.insert(0, '../driftpy/src/')\n",
    "\n",
    "import pandas as pd \n",
    "import numpy as np \n",
    "\n",
    "pd.options.plotting.backend = \"plotly\""
   ]
  },
  {
   "cell_type": "code",
   "execution_count": null,
   "id": "28f75596-5dc9-4a1d-babd-6518c6b96483",
   "metadata": {},
   "outputs": [],
   "source": [
    "program = \n",
    "\n",
    "await get_user_account(program, upk, 0)"
   ]
  }
 ],
 "metadata": {
  "kernelspec": {
   "display_name": "Python 3 (ipykernel)",
   "language": "python",
   "name": "python3"
  },
  "language_info": {
   "codemirror_mode": {
    "name": "ipython",
    "version": 3
   },
   "file_extension": ".py",
   "mimetype": "text/x-python",
   "name": "python",
   "nbconvert_exporter": "python",
   "pygments_lexer": "ipython3",
   "version": "3.10.6"
  }
 },
 "nbformat": 4,
 "nbformat_minor": 5
}
