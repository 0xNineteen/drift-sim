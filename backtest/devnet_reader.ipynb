{
 "cells": [
  {
   "cell_type": "code",
   "execution_count": 10,
   "id": "41305d0a-6c6b-4a8b-b337-ee4093a7f912",
   "metadata": {},
   "outputs": [],
   "source": [
    "%reload_ext autoreload\n",
    "%autoreload 2\n",
    "\n",
    "import sys\n",
    "sys.path.insert(0, '../')\n",
    "sys.path.insert(0, '../driftpy/src/')\n",
    "\n",
    "import pandas as pd \n",
    "import numpy as np \n",
    "\n",
    "pd.options.plotting.backend = \"plotly\"\n",
    "\n",
    "from driftpy.constants.config import configs\n",
    "from anchorpy import Provider, Wallet\n",
    "from solana.keypair import Keypair\n",
    "from solana.rpc.async_api import AsyncClient\n",
    "from driftpy.clearing_house import ClearingHouse\n",
    "from driftpy.accounts import *\n",
    "from driftpy.constants.numeric_constants import * "
   ]
  },
  {
   "cell_type": "code",
   "execution_count": 11,
   "id": "5534e32f-8d9b-4bcf-80be-b1ebe86fc1b9",
   "metadata": {},
   "outputs": [],
   "source": [
    "def human_amm_df(amm: AMM):\n",
    "    bool_fields = [ 'last_oracle_valid']\n",
    "    enum_fields = ['oracle_source']\n",
    "    pure_fields = ['last_update_slot', 'long_intensity_count', 'short_intensity_count', \n",
    "    'curve_update_intensity', 'amm_jit_intensity'\n",
    "    ]\n",
    "    reserve_fields = [\n",
    "        'base_asset_reserve', 'quote_asset_reserve', 'min_base_asset_reserve', 'max_base_asset_reserve', 'sqrt_k'\n",
    "        'ask_base_asset_reserve', 'ask_quote_asset_reserve', 'bid_base_asset_reserve', 'bid_quote_asset_reserve'\n",
    "        'terminal_quote_asset_reserve', 'base_asset_amount_long', 'base_asset_amount_short', 'base_asset_amount_with_amm', 'base_asset_amount_with_unsettled_lp',\n",
    "        'user_lp_shares'\n",
    "        ]\n",
    "    pct_fields = ['long_spread', 'short_spread', 'concentration_coef',]\n",
    "    funding_fields = ['cumulative_funding_rate_long', 'cumulative_funding_rate_short', 'last_funding_rate', 'last_funding_rate_long', 'last_funding_rate_short', 'last24h_avg_funding_rate']\n",
    "    quote_asset_fields = ['total_fee', 'total_mm_fee', 'total_exchange_fee', 'total_fee_minus_distributions',\n",
    "    'total_fee_withdrawn', 'total_liquidation_fee', 'cumulative_social_loss', 'net_revenue_since_last_funding',\n",
    "    'quote_asset_amount_long', 'quote_asset_amount_short', 'quote_entry_amount_long', 'quote_entry_amount_short',\n",
    "    'volume24h', 'long_intensity_volume', 'short_intensity_volume',]\n",
    "    time_fields = ['last_mark_price_twap_ts', 'last_oracle_price_twap_ts']\n",
    "    duration_fields = ['lp_cooldown_time']\n",
    "    px_fields = ['last_bid_price_twap', 'last_ask_price_twap', 'last_mark_price_twap', 'last_mark_price_twap5min',\n",
    "    'peg_multiplier',\n",
    "    'mark_std']\n",
    "    pool_fields = ['fee_pool']\n",
    "\n",
    "\n",
    "def human_market_df(market: PerpMarket):\n",
    "    enum_fields = ['status', 'contract_tier', '']\n",
    "    pure_fields = ['number_of_users', 'market_index', 'next_curve_record_id', 'next_fill_record_id', 'next_funding_rate_record_id']\n",
    "    pct_fields = ['imf_factor', 'unrealized_pnl_imf_factor', 'liquidator_fee', 'if_liquidation_fee',\n",
    "    'margin_ratio_initial', 'margin_ratio_maintenance']\n",
    "    px_fields = ['expiry_price', ]\n",
    "    time_fields = ['last_trade_ts', 'expiry_ts']\n",
    "    pool_fields = ['pnl_pool']"
   ]
  },
  {
   "cell_type": "code",
   "execution_count": 12,
   "id": "0ff80e2b-3ee9-4ded-aea6-88c4f06eee2c",
   "metadata": {},
   "outputs": [
    {
     "name": "stdout",
     "output_type": "stream",
     "text": [
      "Config(env='devnet', pyth_oracle_mapping_address=BmA9Z6FjioHJPpjT39QazZyhDRUdZy2ezwx4GiDdE2u2, clearing_house_program_id=DUZwKJKAk2C9S88BYvQzck1M1i5hySQjxB4zW6tJ29Nw, usdc_mint_address=8zGuJQqwhZafTah7Uc7Z4tXRnguqkn5KLFAP8oV6PHe2, markets=[Market(symbol='SOL-PERP', base_asset_symbol='SOL', market_index=0, pyth_oracle=J83w4HKfqxwcq3BEMMkPFSppX3gqekLyLJBexebFVkix), Market(symbol='BTC-PERP', base_asset_symbol='BTC', market_index=1, pyth_oracle=HovQMDrbAgAYPCmHVSrezcSmkMtXSSUsLDFANExrZh2J), Market(symbol='ETH-PERP', base_asset_symbol='ETH', market_index=2, pyth_oracle=EdVCmQ9FSPcVe5YySXDPCRmc8aDQLKJ9xvYBMZPie1Vw)], banks=[Bank(symbol='USDC', bank_index=0, oracle=11111111111111111111111111111111, oracle_source=<class 'sumtypes.QUOTE_ASSET'>, mint=8zGuJQqwhZafTah7Uc7Z4tXRnguqkn5KLFAP8oV6PHe2), Bank(symbol='SOL', bank_index=1, oracle=J83w4HKfqxwcq3BEMMkPFSppX3gqekLyLJBexebFVkix, oracle_source=<class 'sumtypes.PYTH'>, mint=So11111111111111111111111111111111111111112), Bank(symbol='BTC', bank_index=2, oracle=HovQMDrbAgAYPCmHVSrezcSmkMtXSSUsLDFANExrZh2J, oracle_source=<class 'sumtypes.PYTH'>, mint=3BZPwbcqB5kKScF3TEXxwNfx5ipV13kbRVDvfVp5c6fv)])\n",
      "pk: E7iAhFMa9KvwhJtaPpoqJE4wPZb16zj2Az7PM9YdWK15\n"
     ]
    }
   ],
   "source": [
    "config = configs['devnet']\n",
    "url = 'https://api.devnet.solana.com'\n",
    "import json\n",
    "print(config)\n",
    "# random key \n",
    "with open(os.path.expanduser('~/.config/solana/.json'), 'r') as f: secret = json.load(f) \n",
    "kp = Keypair.from_secret_key(bytes(secret))\n",
    "print('pk:', kp.public_key)\n",
    "wallet = Wallet(kp)\n",
    "connection = AsyncClient(url)\n",
    "provider = Provider(connection, wallet)\n",
    "ch = ClearingHouse.from_config(config, provider)"
   ]
  },
  {
   "cell_type": "code",
   "execution_count": 13,
   "id": "26ab223e-22f9-4e83-b347-2c4e215aeed6",
   "metadata": {},
   "outputs": [
    {
     "data": {
      "text/plain": [
       "State(admin=E7iAhFMa9KvwhJtaPpoqJE4wPZb16zj2Az7PM9YdWK15, whitelist_mint=11111111111111111111111111111111, discount_mint=11111111111111111111111111111111, signer=FrUhDdSssSknnCfudsWj2NQhdUxYFKV8T9DS8ogMnd8W, srm_vault=11111111111111111111111111111111, perp_fee_structure=FeeStructure(fee_tiers=ListContainer([FeeTier(fee_numerator=100, fee_denominator=100000, maker_rebate_numerator=20, maker_rebate_denominator=100000, referrer_reward_numerator=15, referrer_reward_denominator=100, referee_fee_numerator=5, referee_fee_denominator=100), FeeTier(fee_numerator=80, fee_denominator=100000, maker_rebate_numerator=20, maker_rebate_denominator=100000, referrer_reward_numerator=15, referrer_reward_denominator=100, referee_fee_numerator=5, referee_fee_denominator=100), FeeTier(fee_numerator=60, fee_denominator=100000, maker_rebate_numerator=20, maker_rebate_denominator=100000, referrer_reward_numerator=15, referrer_reward_denominator=100, referee_fee_numerator=5, referee_fee_denominator=100), FeeTier(fee_numerator=50, fee_denominator=100000, maker_rebate_numerator=20, maker_rebate_denominator=100000, referrer_reward_numerator=15, referrer_reward_denominator=100, referee_fee_numerator=5, referee_fee_denominator=100), FeeTier(fee_numerator=40, fee_denominator=100000, maker_rebate_numerator=20, maker_rebate_denominator=100000, referrer_reward_numerator=15, referrer_reward_denominator=100, referee_fee_numerator=5, referee_fee_denominator=100), FeeTier(fee_numerator=35, fee_denominator=100000, maker_rebate_numerator=20, maker_rebate_denominator=100000, referrer_reward_numerator=15, referrer_reward_denominator=100, referee_fee_numerator=5, referee_fee_denominator=100), FeeTier(fee_numerator=0, fee_denominator=100000, maker_rebate_numerator=0, maker_rebate_denominator=100000, referrer_reward_numerator=0, referrer_reward_denominator=100, referee_fee_numerator=0, referee_fee_denominator=100), FeeTier(fee_numerator=0, fee_denominator=100000, maker_rebate_numerator=0, maker_rebate_denominator=100000, referrer_reward_numerator=0, referrer_reward_denominator=100, referee_fee_numerator=0, referee_fee_denominator=100), FeeTier(fee_numerator=0, fee_denominator=100000, maker_rebate_numerator=0, maker_rebate_denominator=100000, referrer_reward_numerator=0, referrer_reward_denominator=100, referee_fee_numerator=0, referee_fee_denominator=100), FeeTier(fee_numerator=0, fee_denominator=100000, maker_rebate_numerator=0, maker_rebate_denominator=100000, referrer_reward_numerator=0, referrer_reward_denominator=100, referee_fee_numerator=0, referee_fee_denominator=100)]), filler_reward_structure=OrderFillerRewardStructure(reward_numerator=10, reward_denominator=100, time_based_reward_lower_bound=10000), referrer_reward_epoch_upper_bound=4000000000, flat_filler_fee=10000), spot_fee_structure=FeeStructure(fee_tiers=ListContainer([FeeTier(fee_numerator=100, fee_denominator=100000, maker_rebate_numerator=20, maker_rebate_denominator=100000, referrer_reward_numerator=0, referrer_reward_denominator=100, referee_fee_numerator=0, referee_fee_denominator=100), FeeTier(fee_numerator=0, fee_denominator=100000, maker_rebate_numerator=0, maker_rebate_denominator=100000, referrer_reward_numerator=0, referrer_reward_denominator=100, referee_fee_numerator=0, referee_fee_denominator=100), FeeTier(fee_numerator=0, fee_denominator=100000, maker_rebate_numerator=0, maker_rebate_denominator=100000, referrer_reward_numerator=0, referrer_reward_denominator=100, referee_fee_numerator=0, referee_fee_denominator=100), FeeTier(fee_numerator=0, fee_denominator=100000, maker_rebate_numerator=0, maker_rebate_denominator=100000, referrer_reward_numerator=0, referrer_reward_denominator=100, referee_fee_numerator=0, referee_fee_denominator=100), FeeTier(fee_numerator=0, fee_denominator=100000, maker_rebate_numerator=0, maker_rebate_denominator=100000, referrer_reward_numerator=0, referrer_reward_denominator=100, referee_fee_numerator=0, referee_fee_denominator=100), FeeTier(fee_numerator=0, fee_denominator=100000, maker_rebate_numerator=0, maker_rebate_denominator=100000, referrer_reward_numerator=0, referrer_reward_denominator=100, referee_fee_numerator=0, referee_fee_denominator=100), FeeTier(fee_numerator=0, fee_denominator=100000, maker_rebate_numerator=0, maker_rebate_denominator=100000, referrer_reward_numerator=0, referrer_reward_denominator=100, referee_fee_numerator=0, referee_fee_denominator=100), FeeTier(fee_numerator=0, fee_denominator=100000, maker_rebate_numerator=0, maker_rebate_denominator=100000, referrer_reward_numerator=0, referrer_reward_denominator=100, referee_fee_numerator=0, referee_fee_denominator=100), FeeTier(fee_numerator=0, fee_denominator=100000, maker_rebate_numerator=0, maker_rebate_denominator=100000, referrer_reward_numerator=0, referrer_reward_denominator=100, referee_fee_numerator=0, referee_fee_denominator=100), FeeTier(fee_numerator=0, fee_denominator=100000, maker_rebate_numerator=0, maker_rebate_denominator=100000, referrer_reward_numerator=0, referrer_reward_denominator=100, referee_fee_numerator=0, referee_fee_denominator=100)]), filler_reward_structure=OrderFillerRewardStructure(reward_numerator=10, reward_denominator=100, time_based_reward_lower_bound=10000), referrer_reward_epoch_upper_bound=4000000000, flat_filler_fee=10000), oracle_guard_rails=OracleGuardRails(price_divergence=PriceDivergenceGuardRails(mark_oracle_divergence_numerator=1, mark_oracle_divergence_denominator=10), validity=ValidityGuardRails(slots_before_stale_for_amm=10, slots_before_stale_for_margin=120, confidence_interval_max_size=20000, too_volatile_ratio=5), use_for_liquidations=True), number_of_authorities=500000, lp_cooldown_time=0, liquidation_margin_buffer_ratio=159, settlement_duration=0, number_of_markets=0, number_of_spot_markets=200, signer_nonce=0, min_perp_auction_duration=0, default_market_order_time_in_force=0, default_spot_auction_duration=0, exchange_status=ExchangeStatus.FillPaused(), padding=ListContainer([0]))"
      ]
     },
     "execution_count": 13,
     "metadata": {},
     "output_type": "execute_result"
    }
   ],
   "source": [
    "state = await get_state_account(ch.program)\n",
    "state"
   ]
  },
  {
   "cell_type": "code",
   "execution_count": 14,
   "id": "28f75596-5dc9-4a1d-babd-6518c6b96483",
   "metadata": {},
   "outputs": [],
   "source": [
    "market = await get_perp_market_account(ch.program, 0)"
   ]
  },
  {
   "cell_type": "code",
   "execution_count": 51,
   "id": "6a5a3033-1d73-4899-9612-c089c1e47dea",
   "metadata": {},
   "outputs": [],
   "source": []
  },
  {
   "cell_type": "code",
   "execution_count": null,
   "id": "c48350c4-e5a5-4040-be28-6d685b8b1923",
   "metadata": {},
   "outputs": [],
   "source": []
  }
 ],
 "metadata": {
  "kernelspec": {
   "display_name": "Python 3 (ipykernel)",
   "language": "python",
   "name": "python3"
  },
  "language_info": {
   "codemirror_mode": {
    "name": "ipython",
    "version": 3
   },
   "file_extension": ".py",
   "mimetype": "text/x-python",
   "name": "python",
   "nbconvert_exporter": "python",
   "pygments_lexer": "ipython3",
   "version": "3.10.6"
  }
 },
 "nbformat": 4,
 "nbformat_minor": 5
}
