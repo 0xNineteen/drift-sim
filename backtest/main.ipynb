{
 "cells": [
  {
   "cell_type": "code",
   "execution_count": 1,
   "metadata": {},
   "outputs": [],
   "source": [
    "%reload_ext autoreload\n",
    "%autoreload 2\n",
    "\n",
    "import sys\n",
    "sys.path.insert(0, '../')\n",
    "sys.path.insert(0, '../driftpy/src/')\n",
    "\n",
    "import pandas as pd \n",
    "import numpy as np \n",
    "\n",
    "from driftpy.math.amm import *\n",
    "from driftpy.math.trade import *\n",
    "from driftpy.math.positions import *\n",
    "from driftpy.math.market import *\n",
    "from driftpy.math.user import *\n",
    "\n",
    "from driftpy.types import *\n",
    "from driftpy.constants.numeric_constants import *\n",
    "\n",
    "from driftpy.setup.helpers import _create_usdc_mint, mock_oracle, _airdrop_user, set_price_feed, adjust_oracle_pretrade, _mint_usdc_tx, _create_user_usdc_ata_tx\n",
    "from driftpy.clearing_house import ClearingHouse\n",
    "from driftpy.admin import Admin\n",
    "from driftpy.types import OracleSource\n",
    "\n",
    "from sim.events import * \n",
    "from driftpy.clearing_house import ClearingHouse as SDKClearingHouse\n",
    "from driftpy.accounts import get_market_account\n",
    "from driftpy.math.amm import calculate_mark_price_amm\n",
    "from driftpy.accounts import get_user_account\n",
    "\n",
    "from anchorpy import Provider, Program, create_workspace\n",
    "from programs.clearing_house.state.market import SimulationAMM, SimulationMarket\n",
    "from helpers import setup_bank, setup_market, view_logs\n",
    "from tqdm import tqdm\n",
    "from driftpy.setup.helpers import _create_user_usdc_ata_tx\n",
    "from solana.keypair import Keypair\n"
   ]
  },
  {
   "cell_type": "code",
   "execution_count": 7,
   "metadata": {},
   "outputs": [
    {
     "name": "stdout",
     "output_type": "stream",
     "text": [
      "['deposit_collateral' 'add_liquidity' 'open_position' 'remove_liquidity'\n",
      " 'settle_lp' 'close_position']\n"
     ]
    },
    {
     "data": {
      "text/html": [
       "<div>\n",
       "<style scoped>\n",
       "    .dataframe tbody tr th:only-of-type {\n",
       "        vertical-align: middle;\n",
       "    }\n",
       "\n",
       "    .dataframe tbody tr th {\n",
       "        vertical-align: top;\n",
       "    }\n",
       "\n",
       "    .dataframe thead th {\n",
       "        text-align: right;\n",
       "    }\n",
       "</style>\n",
       "<table border=\"1\" class=\"dataframe\">\n",
       "  <thead>\n",
       "    <tr style=\"text-align: right;\">\n",
       "      <th></th>\n",
       "      <th>event_name</th>\n",
       "      <th>timestamp</th>\n",
       "      <th>parameters</th>\n",
       "    </tr>\n",
       "  </thead>\n",
       "  <tbody>\n",
       "    <tr>\n",
       "      <th>0</th>\n",
       "      <td>deposit_collateral</td>\n",
       "      <td>0.000000e+00</td>\n",
       "      <td>{\"deposit_amount\": 10000000000000, \"user_index...</td>\n",
       "    </tr>\n",
       "    <tr>\n",
       "      <th>1</th>\n",
       "      <td>deposit_collateral</td>\n",
       "      <td>1.000000e+00</td>\n",
       "      <td>{\"deposit_amount\": 10000000000000, \"user_index...</td>\n",
       "    </tr>\n",
       "    <tr>\n",
       "      <th>2</th>\n",
       "      <td>deposit_collateral</td>\n",
       "      <td>2.000000e+00</td>\n",
       "      <td>{\"deposit_amount\": 10000000000000, \"user_index...</td>\n",
       "    </tr>\n",
       "    <tr>\n",
       "      <th>3</th>\n",
       "      <td>deposit_collateral</td>\n",
       "      <td>3.000000e+00</td>\n",
       "      <td>{\"deposit_amount\": 10000000000000, \"user_index...</td>\n",
       "    </tr>\n",
       "    <tr>\n",
       "      <th>4</th>\n",
       "      <td>deposit_collateral</td>\n",
       "      <td>4.000000e+00</td>\n",
       "      <td>{\"deposit_amount\": 10000000000000, \"user_index...</td>\n",
       "    </tr>\n",
       "    <tr>\n",
       "      <th>...</th>\n",
       "      <td>...</td>\n",
       "      <td>...</td>\n",
       "      <td>...</td>\n",
       "    </tr>\n",
       "    <tr>\n",
       "      <th>70</th>\n",
       "      <td>close_position</td>\n",
       "      <td>1.000000e+13</td>\n",
       "      <td>{\"market_index\": 0, \"user_index\": 5}</td>\n",
       "    </tr>\n",
       "    <tr>\n",
       "      <th>71</th>\n",
       "      <td>close_position</td>\n",
       "      <td>1.000000e+13</td>\n",
       "      <td>{\"market_index\": 0, \"user_index\": 7}</td>\n",
       "    </tr>\n",
       "    <tr>\n",
       "      <th>72</th>\n",
       "      <td>close_position</td>\n",
       "      <td>1.000000e+13</td>\n",
       "      <td>{\"market_index\": 0, \"user_index\": 8}</td>\n",
       "    </tr>\n",
       "    <tr>\n",
       "      <th>73</th>\n",
       "      <td>close_position</td>\n",
       "      <td>1.000000e+13</td>\n",
       "      <td>{\"market_index\": 0, \"user_index\": 9}</td>\n",
       "    </tr>\n",
       "    <tr>\n",
       "      <th>74</th>\n",
       "      <td>close_position</td>\n",
       "      <td>1.000000e+13</td>\n",
       "      <td>{\"market_index\": 0, \"user_index\": 16}</td>\n",
       "    </tr>\n",
       "  </tbody>\n",
       "</table>\n",
       "<p>75 rows × 3 columns</p>\n",
       "</div>"
      ],
      "text/plain": [
       "            event_name     timestamp  \\\n",
       "0   deposit_collateral  0.000000e+00   \n",
       "1   deposit_collateral  1.000000e+00   \n",
       "2   deposit_collateral  2.000000e+00   \n",
       "3   deposit_collateral  3.000000e+00   \n",
       "4   deposit_collateral  4.000000e+00   \n",
       "..                 ...           ...   \n",
       "70      close_position  1.000000e+13   \n",
       "71      close_position  1.000000e+13   \n",
       "72      close_position  1.000000e+13   \n",
       "73      close_position  1.000000e+13   \n",
       "74      close_position  1.000000e+13   \n",
       "\n",
       "                                           parameters  \n",
       "0   {\"deposit_amount\": 10000000000000, \"user_index...  \n",
       "1   {\"deposit_amount\": 10000000000000, \"user_index...  \n",
       "2   {\"deposit_amount\": 10000000000000, \"user_index...  \n",
       "3   {\"deposit_amount\": 10000000000000, \"user_index...  \n",
       "4   {\"deposit_amount\": 10000000000000, \"user_index...  \n",
       "..                                                ...  \n",
       "70               {\"market_index\": 0, \"user_index\": 5}  \n",
       "71               {\"market_index\": 0, \"user_index\": 7}  \n",
       "72               {\"market_index\": 0, \"user_index\": 8}  \n",
       "73               {\"market_index\": 0, \"user_index\": 9}  \n",
       "74              {\"market_index\": 0, \"user_index\": 16}  \n",
       "\n",
       "[75 rows x 3 columns]"
      ]
     },
     "execution_count": 7,
     "metadata": {},
     "output_type": "execute_result"
    }
   ],
   "source": [
    "\n",
    "# folder_name = 'tmp5'\n",
    "folder_name = 'tmp4'\n",
    "# path = '../driftpy/protocol-v2'\n",
    "path = '../../../protocol-v2'\n",
    "\n",
    "events = pd.read_csv(f\"./{folder_name}/events.csv\")\n",
    "clearing_houses = pd.read_csv(f\"./{folder_name}/chs.csv\")\n",
    "print(events['event_name'].unique())\n",
    "events"
   ]
  },
  {
   "cell_type": "code",
   "execution_count": 5,
   "metadata": {},
   "outputs": [
    {
     "name": "stdout",
     "output_type": "stream",
     "text": [
      "Warning: oracle not set...\n"
     ]
    }
   ],
   "source": [
    "# setup clearing house + bank + market \n",
    "# note first run `anchor localnet` in v2 dir\n",
    "workspace = create_workspace(path)\n",
    "program: Program = workspace[\"clearing_house\"]\n",
    "oracle_program: Program = workspace[\"pyth\"]\n",
    "provider: Provider = program.provider\n",
    "\n",
    "clearing_house, usdc_mint = await setup_bank(\n",
    "    program\n",
    ")\n",
    "\n",
    "init_state = clearing_houses.iloc[0]\n",
    "init_reserves = int(init_state.m0_base_asset_reserve) # 200 * 1e13\n",
    "init_market = SimulationMarket(\n",
    "    market_index=0,\n",
    "    amm=SimulationAMM(\n",
    "        oracle=None,\n",
    "        base_asset_reserve=init_reserves, \n",
    "        quote_asset_reserve=init_reserves, \n",
    "        funding_period = 60 * 60, # 1 hour dont worry about funding updates for now \n",
    "        peg_multiplier=int(init_state.m0_peg_multiplier),\n",
    "        base_spread=2500,\n",
    "    )\n",
    ")\n",
    "oracle = await setup_market(\n",
    "    clearing_house, \n",
    "    init_market, \n",
    "    workspace\n",
    ")\n"
   ]
  },
  {
   "cell_type": "code",
   "execution_count": 6,
   "metadata": {},
   "outputs": [
    {
     "name": "stdout",
     "output_type": "stream",
     "text": [
      "airdropping sol to users...\n"
     ]
    },
    {
     "name": "stderr",
     "output_type": "stream",
     "text": [
      "100%|██████████| 20/20 [00:00<00:00, 463.38it/s]\n",
      "100%|██████████| 20/20 [00:19<00:00,  1.04it/s]\n"
     ]
    }
   ],
   "source": [
    "# fast init for users - airdrop takes a bit to finalize\n",
    "print('airdropping sol to users...')\n",
    "user_indexs = np.unique([json.loads(e['parameters'])['user_index'] for _, e in events.iterrows() if 'user_index' in json.loads(e['parameters'])])\n",
    "users = {}\n",
    "for user_index in tqdm(user_indexs):\n",
    "    user, tx_sig = await _airdrop_user(provider)\n",
    "    users[user_index] = (user, tx_sig)\n",
    "\n",
    "for i, (user, tx_sig) in tqdm(users.items()):\n",
    "    await provider.connection.confirm_transaction(tx_sig, sleep_seconds=0.1)"
   ]
  },
  {
   "cell_type": "code",
   "execution_count": 8,
   "metadata": {},
   "outputs": [
    {
     "name": "stderr",
     "output_type": "stream",
     "text": [
      "  0%|          | 0/75 [00:00<?, ?it/s]"
     ]
    },
    {
     "name": "stdout",
     "output_type": "stream",
     "text": [
      "=> 0 init user...\n",
      "=> 0 depositing...\n"
     ]
    },
    {
     "name": "stderr",
     "output_type": "stream",
     "text": [
      "  1%|▏         | 1/75 [00:02<02:31,  2.05s/it]"
     ]
    },
    {
     "name": "stdout",
     "output_type": "stream",
     "text": [
      "=> 1 init user...\n",
      "=> 1 depositing...\n"
     ]
    },
    {
     "name": "stderr",
     "output_type": "stream",
     "text": [
      "  3%|▎         | 2/75 [00:03<02:08,  1.77s/it]"
     ]
    },
    {
     "name": "stdout",
     "output_type": "stream",
     "text": [
      "=> 2 init user...\n",
      "=> 2 depositing...\n"
     ]
    },
    {
     "name": "stderr",
     "output_type": "stream",
     "text": [
      "  4%|▍         | 3/75 [00:05<02:17,  1.91s/it]"
     ]
    },
    {
     "name": "stdout",
     "output_type": "stream",
     "text": [
      "=> 3 init user...\n",
      "=> 3 depositing...\n"
     ]
    },
    {
     "name": "stderr",
     "output_type": "stream",
     "text": [
      "  5%|▌         | 4/75 [00:07<02:19,  1.97s/it]"
     ]
    },
    {
     "name": "stdout",
     "output_type": "stream",
     "text": [
      "=> 4 init user...\n",
      "=> 4 depositing...\n"
     ]
    },
    {
     "name": "stderr",
     "output_type": "stream",
     "text": [
      "  7%|▋         | 5/75 [00:09<02:07,  1.83s/it]"
     ]
    },
    {
     "name": "stdout",
     "output_type": "stream",
     "text": [
      "=> 5 init user...\n",
      "=> 5 depositing...\n"
     ]
    },
    {
     "name": "stderr",
     "output_type": "stream",
     "text": [
      "  8%|▊         | 6/75 [00:11<02:23,  2.08s/it]"
     ]
    },
    {
     "name": "stdout",
     "output_type": "stream",
     "text": [
      "=> 6 init user...\n",
      "=> 6 depositing...\n"
     ]
    },
    {
     "name": "stderr",
     "output_type": "stream",
     "text": [
      "  9%|▉         | 7/75 [00:13<02:10,  1.92s/it]"
     ]
    },
    {
     "name": "stdout",
     "output_type": "stream",
     "text": [
      "=> 7 init user...\n",
      "=> 7 depositing...\n"
     ]
    },
    {
     "name": "stderr",
     "output_type": "stream",
     "text": [
      " 11%|█         | 8/75 [00:15<02:01,  1.81s/it]"
     ]
    },
    {
     "name": "stdout",
     "output_type": "stream",
     "text": [
      "=> 8 init user...\n",
      "=> 8 depositing...\n"
     ]
    },
    {
     "name": "stderr",
     "output_type": "stream",
     "text": [
      " 12%|█▏        | 9/75 [00:16<01:54,  1.73s/it]"
     ]
    },
    {
     "name": "stdout",
     "output_type": "stream",
     "text": [
      "=> 9 init user...\n",
      "=> 9 depositing...\n"
     ]
    },
    {
     "name": "stderr",
     "output_type": "stream",
     "text": [
      " 13%|█▎        | 10/75 [00:19<02:19,  2.15s/it]"
     ]
    },
    {
     "name": "stdout",
     "output_type": "stream",
     "text": [
      "=> 10 init user...\n",
      "=> 10 depositing...\n"
     ]
    },
    {
     "name": "stderr",
     "output_type": "stream",
     "text": [
      " 15%|█▍        | 11/75 [00:21<02:05,  1.97s/it]"
     ]
    },
    {
     "name": "stdout",
     "output_type": "stream",
     "text": [
      "=> 11 init user...\n",
      "=> 11 depositing...\n"
     ]
    },
    {
     "name": "stderr",
     "output_type": "stream",
     "text": [
      " 16%|█▌        | 12/75 [00:23<02:15,  2.16s/it]"
     ]
    },
    {
     "name": "stdout",
     "output_type": "stream",
     "text": [
      "=> 12 init user...\n",
      "=> 12 depositing...\n"
     ]
    },
    {
     "name": "stderr",
     "output_type": "stream",
     "text": [
      " 17%|█▋        | 13/75 [00:25<02:02,  1.98s/it]"
     ]
    },
    {
     "name": "stdout",
     "output_type": "stream",
     "text": [
      "=> 13 init user...\n",
      "=> 13 depositing...\n"
     ]
    },
    {
     "name": "stderr",
     "output_type": "stream",
     "text": [
      " 19%|█▊        | 14/75 [00:26<01:52,  1.85s/it]"
     ]
    },
    {
     "name": "stdout",
     "output_type": "stream",
     "text": [
      "=> 14 init user...\n",
      "=> 14 depositing...\n"
     ]
    },
    {
     "name": "stderr",
     "output_type": "stream",
     "text": [
      " 20%|██        | 15/75 [00:29<02:04,  2.07s/it]"
     ]
    },
    {
     "name": "stdout",
     "output_type": "stream",
     "text": [
      "=> 15 init user...\n",
      "=> 15 depositing...\n"
     ]
    },
    {
     "name": "stderr",
     "output_type": "stream",
     "text": [
      " 21%|██▏       | 16/75 [00:31<01:53,  1.92s/it]"
     ]
    },
    {
     "name": "stdout",
     "output_type": "stream",
     "text": [
      "=> 16 init user...\n",
      "=> 16 depositing...\n"
     ]
    },
    {
     "name": "stderr",
     "output_type": "stream",
     "text": [
      " 23%|██▎       | 17/75 [00:33<01:54,  1.97s/it]"
     ]
    },
    {
     "name": "stdout",
     "output_type": "stream",
     "text": [
      "=> 17 init user...\n",
      "=> 17 depositing...\n"
     ]
    },
    {
     "name": "stderr",
     "output_type": "stream",
     "text": [
      " 24%|██▍       | 18/75 [00:35<01:53,  2.00s/it]"
     ]
    },
    {
     "name": "stdout",
     "output_type": "stream",
     "text": [
      "=> 18 init user...\n",
      "=> 18 depositing...\n"
     ]
    },
    {
     "name": "stderr",
     "output_type": "stream",
     "text": [
      " 25%|██▌       | 19/75 [00:36<01:44,  1.86s/it]"
     ]
    },
    {
     "name": "stdout",
     "output_type": "stream",
     "text": [
      "=> 19 init user...\n",
      "=> 19 depositing...\n"
     ]
    },
    {
     "name": "stderr",
     "output_type": "stream",
     "text": [
      " 27%|██▋       | 20/75 [00:38<01:37,  1.77s/it]"
     ]
    },
    {
     "name": "stdout",
     "output_type": "stream",
     "text": [
      "=> 7 adding liquidity...\n"
     ]
    },
    {
     "name": "stderr",
     "output_type": "stream",
     "text": [
      " 28%|██▊       | 21/75 [00:38<01:15,  1.40s/it]"
     ]
    },
    {
     "name": "stdout",
     "output_type": "stream",
     "text": [
      "=> 10 opening position...\n",
      "oracle: 7.460000000000783 -> 7.5000603354267374\n"
     ]
    },
    {
     "name": "stderr",
     "output_type": "stream",
     "text": [
      " 29%|██▉       | 22/75 [00:40<01:16,  1.44s/it]"
     ]
    },
    {
     "name": "stdout",
     "output_type": "stream",
     "text": [
      "=> 14 opening position...\n",
      "oracle: 7.5000603354267374 -> 7.496433442610568\n"
     ]
    },
    {
     "name": "stderr",
     "output_type": "stream",
     "text": [
      " 31%|███       | 23/75 [00:42<01:24,  1.63s/it]"
     ]
    },
    {
     "name": "stdout",
     "output_type": "stream",
     "text": [
      "=> 7 removing liquidity...\n"
     ]
    },
    {
     "name": "stderr",
     "output_type": "stream",
     "text": [
      " 32%|███▏      | 24/75 [00:43<01:06,  1.30s/it]"
     ]
    },
    {
     "name": "stdout",
     "output_type": "stream",
     "text": [
      "=> 11 opening position...\n",
      "oracle: 7.496433442609514 -> 7.548987356823395\n"
     ]
    },
    {
     "name": "stderr",
     "output_type": "stream",
     "text": [
      " 33%|███▎      | 25/75 [00:44<01:01,  1.23s/it]"
     ]
    },
    {
     "name": "stdout",
     "output_type": "stream",
     "text": [
      "=> 4 adding liquidity...\n"
     ]
    },
    {
     "name": "stderr",
     "output_type": "stream",
     "text": [
      " 35%|███▍      | 26/75 [00:44<00:50,  1.02s/it]"
     ]
    },
    {
     "name": "stdout",
     "output_type": "stream",
     "text": [
      "=> 4 settle lp...\n"
     ]
    },
    {
     "name": "stderr",
     "output_type": "stream",
     "text": [
      " 36%|███▌      | 27/75 [00:45<00:41,  1.14it/s]"
     ]
    },
    {
     "name": "stdout",
     "output_type": "stream",
     "text": [
      "=> 17 opening position...\n",
      "oracle: 7.5489873568241315 -> 7.458267824271233\n"
     ]
    },
    {
     "name": "stderr",
     "output_type": "stream",
     "text": [
      " 37%|███▋      | 28/75 [00:46<00:43,  1.07it/s]"
     ]
    },
    {
     "name": "stdout",
     "output_type": "stream",
     "text": [
      "=> 11 closing position...\n",
      "oracle: 7.458267824271233 -> 7.428408369489238\n"
     ]
    },
    {
     "name": "stderr",
     "output_type": "stream",
     "text": [
      " 39%|███▊      | 29/75 [00:47<00:44,  1.02it/s]"
     ]
    },
    {
     "name": "stdout",
     "output_type": "stream",
     "text": [
      "=> 14 closing position...\n",
      "oracle: 7.428408369489238 -> 7.432189137506948\n"
     ]
    },
    {
     "name": "stderr",
     "output_type": "stream",
     "text": [
      " 40%|████      | 30/75 [00:48<00:45,  1.01s/it]"
     ]
    },
    {
     "name": "stdout",
     "output_type": "stream",
     "text": [
      "=> 4 settle lp...\n"
     ]
    },
    {
     "name": "stderr",
     "output_type": "stream",
     "text": [
      " 41%|████▏     | 31/75 [00:48<00:38,  1.15it/s]"
     ]
    },
    {
     "name": "stdout",
     "output_type": "stream",
     "text": [
      "=> 8 adding liquidity...\n"
     ]
    },
    {
     "name": "stderr",
     "output_type": "stream",
     "text": [
      " 43%|████▎     | 32/75 [00:49<00:39,  1.09it/s]"
     ]
    },
    {
     "name": "stdout",
     "output_type": "stream",
     "text": [
      "=> 0 adding liquidity...\n"
     ]
    },
    {
     "name": "stderr",
     "output_type": "stream",
     "text": [
      " 44%|████▍     | 33/75 [00:51<00:40,  1.05it/s]"
     ]
    },
    {
     "name": "stdout",
     "output_type": "stream",
     "text": [
      "=> 9 adding liquidity...\n"
     ]
    },
    {
     "name": "stderr",
     "output_type": "stream",
     "text": [
      " 45%|████▌     | 34/75 [00:52<00:40,  1.02it/s]"
     ]
    },
    {
     "name": "stdout",
     "output_type": "stream",
     "text": [
      "=> 15 opening position...\n",
      "oracle: 7.432189137508387 -> 7.4051655009692485\n"
     ]
    },
    {
     "name": "stderr",
     "output_type": "stream",
     "text": [
      " 47%|████▋     | 35/75 [00:53<00:39,  1.00it/s]"
     ]
    },
    {
     "name": "stdout",
     "output_type": "stream",
     "text": [
      "=> 10 closing position...\n",
      "oracle: 7.4051655009692485 -> 7.3816852987988435\n"
     ]
    },
    {
     "name": "stderr",
     "output_type": "stream",
     "text": [
      " 48%|████▊     | 36/75 [00:54<00:39,  1.02s/it]"
     ]
    },
    {
     "name": "stdout",
     "output_type": "stream",
     "text": [
      "=> 17 closing position...\n",
      "oracle: 7.3816852987988435 -> 7.431901401909667\n"
     ]
    },
    {
     "name": "stderr",
     "output_type": "stream",
     "text": [
      " 49%|████▉     | 37/75 [00:55<00:39,  1.03s/it]"
     ]
    },
    {
     "name": "stdout",
     "output_type": "stream",
     "text": [
      "=> 0 settle lp...\n"
     ]
    },
    {
     "name": "stderr",
     "output_type": "stream",
     "text": [
      " 51%|█████     | 38/75 [00:55<00:32,  1.14it/s]"
     ]
    },
    {
     "name": "stdout",
     "output_type": "stream",
     "text": [
      "=> 4 settle lp...\n"
     ]
    },
    {
     "name": "stderr",
     "output_type": "stream",
     "text": [
      " 52%|█████▏    | 39/75 [00:56<00:28,  1.29it/s]"
     ]
    },
    {
     "name": "stdout",
     "output_type": "stream",
     "text": [
      "=> 12 opening position...\n",
      "oracle: 7.431901401909667 -> 7.384471617993316\n"
     ]
    },
    {
     "name": "stderr",
     "output_type": "stream",
     "text": [
      " 53%|█████▎    | 40/75 [00:57<00:30,  1.17it/s]"
     ]
    },
    {
     "name": "stdout",
     "output_type": "stream",
     "text": [
      "=> 9 removing liquidity...\n"
     ]
    },
    {
     "name": "stderr",
     "output_type": "stream",
     "text": [
      " 55%|█████▍    | 41/75 [00:57<00:25,  1.32it/s]"
     ]
    },
    {
     "name": "stdout",
     "output_type": "stream",
     "text": [
      "=> 0 removing liquidity...\n"
     ]
    },
    {
     "name": "stderr",
     "output_type": "stream",
     "text": [
      " 56%|█████▌    | 42/75 [00:58<00:22,  1.45it/s]"
     ]
    },
    {
     "name": "stdout",
     "output_type": "stream",
     "text": [
      "=> 8 settle lp...\n"
     ]
    },
    {
     "name": "stderr",
     "output_type": "stream",
     "text": [
      " 57%|█████▋    | 43/75 [00:58<00:20,  1.56it/s]"
     ]
    },
    {
     "name": "stdout",
     "output_type": "stream",
     "text": [
      "=> 4 settle lp...\n"
     ]
    },
    {
     "name": "stderr",
     "output_type": "stream",
     "text": [
      " 59%|█████▊    | 44/75 [00:59<00:18,  1.64it/s]"
     ]
    },
    {
     "name": "stdout",
     "output_type": "stream",
     "text": [
      "=> 12 closing position...\n",
      "oracle: 7.384471617992562 -> 7.46270269052435\n"
     ]
    },
    {
     "name": "stderr",
     "output_type": "stream",
     "text": [
      " 60%|██████    | 45/75 [01:01<00:31,  1.05s/it]"
     ]
    },
    {
     "name": "stdout",
     "output_type": "stream",
     "text": [
      "=> 6 adding liquidity...\n"
     ]
    },
    {
     "name": "stderr",
     "output_type": "stream",
     "text": [
      " 61%|██████▏   | 46/75 [01:02<00:25,  1.12it/s]"
     ]
    },
    {
     "name": "stdout",
     "output_type": "stream",
     "text": [
      "=> 6 removing liquidity...\n"
     ]
    },
    {
     "name": "stderr",
     "output_type": "stream",
     "text": [
      " 63%|██████▎   | 47/75 [01:02<00:21,  1.28it/s]"
     ]
    },
    {
     "name": "stdout",
     "output_type": "stream",
     "text": [
      "=> 3 adding liquidity...\n"
     ]
    },
    {
     "name": "stderr",
     "output_type": "stream",
     "text": [
      " 64%|██████▍   | 48/75 [01:03<00:19,  1.41it/s]"
     ]
    },
    {
     "name": "stdout",
     "output_type": "stream",
     "text": [
      "=> 8 removing liquidity...\n"
     ]
    },
    {
     "name": "stderr",
     "output_type": "stream",
     "text": [
      " 65%|██████▌   | 49/75 [01:03<00:17,  1.53it/s]"
     ]
    },
    {
     "name": "stdout",
     "output_type": "stream",
     "text": [
      "=> 5 adding liquidity...\n"
     ]
    },
    {
     "name": "stderr",
     "output_type": "stream",
     "text": [
      " 67%|██████▋   | 50/75 [01:04<00:15,  1.62it/s]"
     ]
    },
    {
     "name": "stdout",
     "output_type": "stream",
     "text": [
      "=> 3 removing liquidity...\n"
     ]
    },
    {
     "name": "stderr",
     "output_type": "stream",
     "text": [
      " 68%|██████▊   | 51/75 [01:04<00:14,  1.69it/s]"
     ]
    },
    {
     "name": "stdout",
     "output_type": "stream",
     "text": [
      "=> 4 removing liquidity...\n"
     ]
    },
    {
     "name": "stderr",
     "output_type": "stream",
     "text": [
      " 69%|██████▉   | 52/75 [01:05<00:13,  1.74it/s]"
     ]
    },
    {
     "name": "stdout",
     "output_type": "stream",
     "text": [
      "=> 15 closing position...\n",
      "oracle: 7.46270269051929 -> 7.505436743608508\n"
     ]
    },
    {
     "name": "stderr",
     "output_type": "stream",
     "text": [
      " 71%|███████   | 53/75 [01:06<00:15,  1.38it/s]"
     ]
    },
    {
     "name": "stdout",
     "output_type": "stream",
     "text": [
      "=> 2 adding liquidity...\n"
     ]
    },
    {
     "name": "stderr",
     "output_type": "stream",
     "text": [
      " 72%|███████▏  | 54/75 [01:06<00:13,  1.50it/s]"
     ]
    },
    {
     "name": "stdout",
     "output_type": "stream",
     "text": [
      "=> 2 removing liquidity...\n"
     ]
    },
    {
     "name": "stderr",
     "output_type": "stream",
     "text": [
      " 73%|███████▎  | 55/75 [01:07<00:12,  1.60it/s]"
     ]
    },
    {
     "name": "stdout",
     "output_type": "stream",
     "text": [
      "=> 5 settle lp...\n"
     ]
    },
    {
     "name": "stderr",
     "output_type": "stream",
     "text": [
      " 75%|███████▍  | 56/75 [01:07<00:11,  1.68it/s]"
     ]
    },
    {
     "name": "stdout",
     "output_type": "stream",
     "text": [
      "=> 1 adding liquidity...\n"
     ]
    },
    {
     "name": "stderr",
     "output_type": "stream",
     "text": [
      " 76%|███████▌  | 57/75 [01:08<00:10,  1.73it/s]"
     ]
    },
    {
     "name": "stdout",
     "output_type": "stream",
     "text": [
      "=> 5 removing liquidity...\n"
     ]
    },
    {
     "name": "stderr",
     "output_type": "stream",
     "text": [
      " 77%|███████▋  | 58/75 [01:08<00:09,  1.77it/s]"
     ]
    },
    {
     "name": "stdout",
     "output_type": "stream",
     "text": [
      "=> 13 opening position...\n",
      "oracle: 7.505436743607394 -> 7.6381543305171276\n"
     ]
    },
    {
     "name": "stderr",
     "output_type": "stream",
     "text": [
      " 79%|███████▊  | 59/75 [01:10<00:11,  1.41it/s]"
     ]
    },
    {
     "name": "stdout",
     "output_type": "stream",
     "text": [
      "=> 13 closing position...\n",
      "oracle: 7.6381543305171276 -> 7.505436743607395\n"
     ]
    },
    {
     "name": "stderr",
     "output_type": "stream",
     "text": [
      " 80%|████████  | 60/75 [01:11<00:12,  1.22it/s]"
     ]
    },
    {
     "name": "stdout",
     "output_type": "stream",
     "text": [
      "=> 1 settle lp...\n"
     ]
    },
    {
     "name": "stderr",
     "output_type": "stream",
     "text": [
      " 81%|████████▏ | 61/75 [01:11<00:10,  1.37it/s]"
     ]
    },
    {
     "name": "stdout",
     "output_type": "stream",
     "text": [
      "=> 16 opening position...\n",
      "oracle: 7.505436743607394 -> 7.652245190036188\n"
     ]
    },
    {
     "name": "stderr",
     "output_type": "stream",
     "text": [
      " 83%|████████▎ | 62/75 [01:13<00:14,  1.13s/it]"
     ]
    },
    {
     "name": "stdout",
     "output_type": "stream",
     "text": [
      "=> 18 opening position...\n",
      "oracle: 7.652245190036188 -> 7.5603306490880735\n"
     ]
    },
    {
     "name": "stderr",
     "output_type": "stream",
     "text": [
      " 84%|████████▍ | 63/75 [01:14<00:13,  1.11s/it]"
     ]
    },
    {
     "name": "stdout",
     "output_type": "stream",
     "text": [
      "=> 1 removing liquidity...\n"
     ]
    },
    {
     "name": "stderr",
     "output_type": "stream",
     "text": [
      " 85%|████████▌ | 64/75 [01:15<00:10,  1.07it/s]"
     ]
    },
    {
     "name": "stdout",
     "output_type": "stream",
     "text": [
      "=> 19 opening position...\n",
      "oracle: 7.560330649087349 -> 7.567035714987197\n"
     ]
    },
    {
     "name": "stderr",
     "output_type": "stream",
     "text": [
      " 87%|████████▋ | 65/75 [01:16<00:09,  1.03it/s]"
     ]
    },
    {
     "name": "stdout",
     "output_type": "stream",
     "text": [
      "=> 18 closing position...\n",
      "oracle: 7.567035714987197 -> 7.694793917890187\n"
     ]
    },
    {
     "name": "stderr",
     "output_type": "stream",
     "text": [
      " 88%|████████▊ | 66/75 [01:17<00:09,  1.00s/it]"
     ]
    },
    {
     "name": "stdout",
     "output_type": "stream",
     "text": [
      "=> 19 closing position...\n",
      "oracle: 7.694793917890186 -> 7.687918367996784\n"
     ]
    },
    {
     "name": "stderr",
     "output_type": "stream",
     "text": [
      " 89%|████████▉ | 67/75 [01:18<00:08,  1.02s/it]"
     ]
    },
    {
     "name": "stdout",
     "output_type": "stream",
     "text": [
      "=> 0 closing position...\n",
      "oracle: 7.687918367996784 -> 7.642854957321891\n"
     ]
    },
    {
     "name": "stderr",
     "output_type": "stream",
     "text": [
      " 91%|█████████ | 68/75 [01:19<00:07,  1.03s/it]"
     ]
    },
    {
     "name": "stdout",
     "output_type": "stream",
     "text": [
      "=> 1 closing position...\n",
      "oracle: 7.642854957321891 -> 7.664402347143016\n"
     ]
    },
    {
     "name": "stderr",
     "output_type": "stream",
     "text": [
      " 92%|█████████▏| 69/75 [01:21<00:08,  1.35s/it]"
     ]
    },
    {
     "name": "stdout",
     "output_type": "stream",
     "text": [
      "=> 4 closing position...\n",
      "oracle: 7.664402347143017 -> 7.599618337361947\n"
     ]
    },
    {
     "name": "stderr",
     "output_type": "stream",
     "text": [
      " 93%|█████████▎| 70/75 [01:22<00:06,  1.26s/it]"
     ]
    },
    {
     "name": "stdout",
     "output_type": "stream",
     "text": [
      "=> 5 closing position...\n",
      "oracle: 7.599618337361947 -> 7.642060145358418\n"
     ]
    },
    {
     "name": "stderr",
     "output_type": "stream",
     "text": [
      " 95%|█████████▍| 71/75 [01:23<00:04,  1.21s/it]"
     ]
    },
    {
     "name": "stdout",
     "output_type": "stream",
     "text": [
      "=> 7 closing position...\n",
      "oracle: 7.642060145358419 -> 7.673417613882698\n"
     ]
    },
    {
     "name": "stderr",
     "output_type": "stream",
     "text": [
      " 96%|█████████▌| 72/75 [01:24<00:03,  1.17s/it]"
     ]
    },
    {
     "name": "stdout",
     "output_type": "stream",
     "text": [
      "=> 8 closing position...\n",
      "oracle: 7.673417613882698 -> 7.677704527496927\n"
     ]
    },
    {
     "name": "stderr",
     "output_type": "stream",
     "text": [
      " 97%|█████████▋| 73/75 [01:25<00:02,  1.14s/it]"
     ]
    },
    {
     "name": "stdout",
     "output_type": "stream",
     "text": [
      "=> 9 closing position...\n",
      "oracle: 7.67770452749693 -> 7.662355872887466\n"
     ]
    },
    {
     "name": "stderr",
     "output_type": "stream",
     "text": [
      " 99%|█████████▊| 74/75 [01:26<00:01,  1.12s/it]"
     ]
    },
    {
     "name": "stdout",
     "output_type": "stream",
     "text": [
      "=> 16 closing position...\n",
      "oracle: 7.662355872887466 -> 7.459999999999117\n"
     ]
    },
    {
     "name": "stderr",
     "output_type": "stream",
     "text": [
      "100%|██████████| 75/75 [01:28<00:00,  1.17s/it]"
     ]
    },
    {
     "name": "stdout",
     "output_type": "stream",
     "text": [
      "0 10000781516487\n",
      "1 9999906970303\n",
      "2 10000000000000\n",
      "3 10000000000000\n",
      "4 10000610388295\n",
      "5 9999620557567\n",
      "6 10000000000000\n",
      "7 9999637509263\n",
      "8 9999948508235\n",
      "9 10000270548906\n",
      "10 36023305041\n",
      "11 25747956136\n",
      "12 72975574101\n",
      "13 90135773917\n",
      "14 3335413271\n",
      "15 41211009279\n",
      "16 99328692625\n",
      "17 79676414092\n",
      "18 63010104999\n",
      "19 3377485502\n",
      "market: 820271967\n",
      "=> difference in $, difference, end/init collateral -1.4e-05 -14 (100516417999986, 100516418000000)\n"
     ]
    },
    {
     "name": "stderr",
     "output_type": "stream",
     "text": [
      "\n"
     ]
    }
   ],
   "source": [
    "#%%\n",
    "user_chs = {}\n",
    "init_total_collateral = 0 \n",
    "\n",
    "for i in tqdm(range(len(events))):\n",
    "    event = events.iloc[i]\n",
    "    \n",
    "    if event.event_name == DepositCollateralEvent._event_name:\n",
    "        event = Event.deserialize_from_row(DepositCollateralEvent, event)\n",
    "        assert event.user_index in users, \"user not setup\"\n",
    "\n",
    "        user_index = event.user_index\n",
    "        user_kp = users[user_index][0]\n",
    "\n",
    "        # rough draft\n",
    "        instructions = []\n",
    "        if user_index not in user_chs: \n",
    "            print(f'=> {event.user_index} init user...')\n",
    "            # initialize user \n",
    "            user_clearing_house = SDKClearingHouse(program, user_kp)\n",
    "            await user_clearing_house.intialize_user()\n",
    "\n",
    "            usdc_ata_kp = Keypair()\n",
    "            usdc_ata_tx = await _create_user_usdc_ata_tx(\n",
    "                usdc_ata_kp, \n",
    "                provider, \n",
    "                usdc_mint, \n",
    "                user_clearing_house.authority\n",
    "            )\n",
    "            user_clearing_house.usdc_ata = usdc_ata_kp\n",
    "            instructions += usdc_ata_tx.instructions\n",
    "\n",
    "            user_chs[user_index] = user_clearing_house\n",
    "\n",
    "        print(f'=> {event.user_index} depositing...')\n",
    "        user_clearing_house: SDKClearingHouse = user_chs[user_index]\n",
    "\n",
    "        # add fundings \n",
    "        mint_tx = _mint_usdc_tx(\n",
    "            usdc_mint, \n",
    "            provider, \n",
    "            event.deposit_amount, \n",
    "            user_clearing_house.usdc_ata\n",
    "        )\n",
    "        instructions += mint_tx.instructions\n",
    "\n",
    "        from solana.transaction import Transaction\n",
    "        tx = Transaction()\n",
    "        [tx.add(ix) for ix in instructions]\n",
    "        await provider.send(tx, [provider.wallet.payer, user_clearing_house.usdc_ata])\n",
    "\n",
    "        # deposit \n",
    "        await user_clearing_house.deposit(\n",
    "            event.deposit_amount, \n",
    "            0, \n",
    "            user_clearing_house.usdc_ata.public_key, \n",
    "        )\n",
    "\n",
    "        # track collateral \n",
    "        init_total_collateral += event.deposit_amount\n",
    "\n",
    "    elif event.event_name == OpenPositionEvent._event_name: \n",
    "        event = Event.deserialize_from_row(OpenPositionEvent, event)\n",
    "        print(f'=> {event.user_index} opening position...')\n",
    "        assert event.user_index in user_chs, 'user doesnt exist'\n",
    "\n",
    "        ch: SDKClearingHouse = user_chs[event.user_index]\n",
    "        await event.run_sdk(ch, oracle_program, adjust_oracle_pre_trade=True)\n",
    "\n",
    "    elif event.event_name == ClosePositionEvent._event_name: \n",
    "        event = Event.deserialize_from_row(ClosePositionEvent, event)\n",
    "        print(f'=> {event.user_index} closing position...')\n",
    "        assert event.user_index in user_chs, 'user doesnt exist'\n",
    "\n",
    "        ch: SDKClearingHouse = user_chs[event.user_index]\n",
    "        await event.run_sdk(ch, oracle_program, adjust_oracle_pre_trade=True)\n",
    "\n",
    "    elif event.event_name == addLiquidityEvent._event_name: \n",
    "        event = Event.deserialize_from_row(addLiquidityEvent, event)\n",
    "        print(f'=> {event.user_index} adding liquidity...')\n",
    "        assert event.user_index in user_chs, 'user doesnt exist'\n",
    "\n",
    "        ch: SDKClearingHouse = user_chs[event.user_index]\n",
    "        await event.run_sdk(ch)\n",
    "\n",
    "    elif event.event_name == removeLiquidityEvent._event_name:\n",
    "        event = Event.deserialize_from_row(removeLiquidityEvent, event)\n",
    "        print(f'=> {event.user_index} removing liquidity...')\n",
    "        assert event.user_index in user_chs, 'user doesnt exist'\n",
    "\n",
    "        ch: SDKClearingHouse = user_chs[event.user_index]\n",
    "        await event.run_sdk(ch)\n",
    "\n",
    "    elif event.event_name == SettleLPEvent._event_name: \n",
    "        event = Event.deserialize_from_row(SettleLPEvent, event)\n",
    "        print(f'=> {event.user_index} settle lp...')\n",
    "        ch: SDKClearingHouse = user_chs[event.user_index]\n",
    "        await event.run_sdk(ch)\n",
    "\n",
    "    else: \n",
    "        raise NotImplementedError\n",
    "\n",
    "end_total_collateral = 0 \n",
    "for (i, ch) in user_chs.items():\n",
    "    user = await get_user_account(\n",
    "        program, \n",
    "        ch.authority, \n",
    "    )\n",
    "\n",
    "    balance = user.bank_balances[0].balance\n",
    "    upnl = user.positions[0].unsettled_pnl\n",
    "    total_user_collateral = balance + upnl\n",
    "\n",
    "    end_total_collateral += total_user_collateral\n",
    "    print(i, total_user_collateral)\n",
    "\n",
    "market = await get_market_account(program, 0)\n",
    "end_total_collateral += market.amm.total_fee_minus_distributions\n",
    "\n",
    "print('market:', market.amm.total_fee_minus_distributions)\n",
    "print(\n",
    "    \"=> difference in $, difference, end/init collateral\",\n",
    "    (end_total_collateral - init_total_collateral) / 1e6, \n",
    "    end_total_collateral - init_total_collateral, \n",
    "    (end_total_collateral, init_total_collateral)\n",
    ")\n",
    "\n"
   ]
  },
  {
   "cell_type": "code",
   "execution_count": null,
   "metadata": {},
   "outputs": [],
   "source": []
  }
 ],
 "metadata": {
  "kernelspec": {
   "display_name": "Python 3.9.12 ('crypto')",
   "language": "python",
   "name": "python3"
  },
  "language_info": {
   "codemirror_mode": {
    "name": "ipython",
    "version": 3
   },
   "file_extension": ".py",
   "mimetype": "text/x-python",
   "name": "python",
   "nbconvert_exporter": "python",
   "pygments_lexer": "ipython3",
   "version": "3.9.12"
  },
  "orig_nbformat": 4,
  "vscode": {
   "interpreter": {
    "hash": "624c72e60887220413ba1f8f2e5b78d412679310011d540f3b5e530000425194"
   }
  }
 },
 "nbformat": 4,
 "nbformat_minor": 2
}
