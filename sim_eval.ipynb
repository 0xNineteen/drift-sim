{
 "cells": [
  {
   "cell_type": "code",
   "execution_count": null,
   "id": "b97a693a-62ea-4da6-8955-84cddaf39ea7",
   "metadata": {},
   "outputs": [],
   "source": [
    "%reload_ext autoreload\n",
    "%autoreload 2\n",
    "\n",
    "import pandas as pd\n",
    "pd.options.plotting.backend = \"plotly\"\n",
    "\n",
    "import sys\n",
    "sys.path.insert(0, 'driftpy/src/')\n",
    "import driftpy\n",
    "print(driftpy.__file__)\n",
    "\n",
    "import numpy as np \n",
    "from sim.sim import DriftSim, load_hist_oracle"
   ]
  },
  {
   "cell_type": "code",
   "execution_count": null,
   "id": "5a29ee21-7017-4acb-9fc6-95d90a1685e5",
   "metadata": {
    "tags": []
   },
   "outputs": [],
   "source": [
    "import os\n",
    "import datetime\n",
    "from sim.agents import * \n",
    "from programs.clearing_house.state import * \n",
    "from sim.events import OpenPositionEvent\n",
    "from sim.helpers import random_walk_oracle, rand_heterosk_oracle, class_to_json\n",
    "import pickle as cPickle\n",
    "\n",
    "SIM_NAME = 'sim-results/sim-solhist'\n",
    "# load_hist_oracle('LUNA-PERP', 'sim-solhist/oracle_prices.csv')\n",
    "\n",
    "def make_ch(base_spread, strategies=''):\n",
    "    oracle = Oracle(SIM_NAME+'/oracle_prices.csv')\n",
    "    # oracle.to_csv(SIM_NAME+'/oracle_prices.csv')\n",
    "    amm = AMM(\n",
    "        oracle=oracle, \n",
    "        base_asset_reserve=int(367621.62052551797 * 1e13), \n",
    "        quote_asset_reserve=int(367621.62052551797 * 1e13),\n",
    "        funding_period=60*60,\n",
    "        peg_multiplier=int(oracle.prices[0]*1e3),\n",
    "        base_spread = base_spread,\n",
    "        strategies = strategies\n",
    "    )\n",
    "    market = Market(amm)\n",
    "    \n",
    "    if strategies=='':\n",
    "        strategies = 'v1'\n",
    "    ch_name = strategies+'_'+str(base_spread)\n",
    "    \n",
    "    fee_structure = FeeStructure(numerator=1, denominator=1000)\n",
    "    clearing_house = ClearingHouse([market], fee_structure)\n",
    "    clearing_house.name = ch_name\n",
    "\n",
    "    return clearing_house\n",
    "\n",
    "\n",
    "arb_agent1 = Noise(1, 0, 0, lookahead=0, size=10)\n",
    "arb_funding1 = ArbFunding(1, 0, 1,)\n",
    "agents = [arb_agent1, arb_funding1]\n",
    "\n",
    "sim1 = DriftSim(SIM_NAME, clearing_house=make_ch(0), agents=agents)\n",
    "sim2 = DriftSim(SIM_NAME, clearing_house=make_ch(1e3, ''), agents=agents)\n",
    "sim2 = DriftSim(SIM_NAME, clearing_house=make_ch(1e3, 'PrePeg'), agents=agents)\n",
    "sim3 = DriftSim(SIM_NAME, clearing_house=make_ch(1e3, 'InventorySkew'), agents=agents)\n",
    "sim4 = DriftSim(SIM_NAME, clearing_house=make_ch(1e3, 'VolatilityScale'), agents=agents)\n",
    "sim5 = DriftSim(SIM_NAME, clearing_house=make_ch(1e3, 'OracleRetreat'), agents=agents)\n",
    "sim6 = DriftSim(SIM_NAME, clearing_house=make_ch(1e3, 'PreFreePeg_InventorySkew_OracleRetreat'),\n",
    "                agents=agents)\n",
    "\n",
    "\n",
    "sims = [sim1, sim2, sim3, sim4, sim5, sim6]\n",
    "sims = [sim6]\n",
    "\n",
    "for sim_i in sims:\n",
    "    res = sim_i.run()\n",
    "    print('finish sim')\n",
    "    res_df = sim_i.to_df(save=True)\n",
    "    print('finish res')\n",
    "    print(res_df.columns)\n",
    "    toplt = res_df[[\n",
    "        'm0_mark_price', 'm0_oracle_price', 'm0_bid_price', 'm0_ask_price',\n",
    "        # 'bid_price_before', 'ask_price_before',\n",
    "        # 'user0.quote_asset_amount',\n",
    "        # 'cumulative_funding_rate_long',\n",
    "        'm0_peg_multiplier', 'm0_wouldbe_peg', 'm0_wouldbe_peg_cost',\n",
    "        # 'm0_total_exchange_fees', 'm0_total_mm_fees',\n",
    "        # 'm0_total_fee', 'm0_total_fee_minus_distributions',\n",
    "\n",
    "\n",
    "        # 'base_asset_amount',\n",
    "        # 'user0.base_asset_amount', 'user0.total_collateral', 'mark_std', 'last_spread',\n",
    "        # 'total_fees', \n",
    "        # 'predicted_long_funding',\n",
    "        # 'total_exchange_fees', 'total_mm_fees'\n",
    "    ]].replace(0, np.nan)\n",
    "    if 'u0_m0_base_asset_amount' in res_df.columns:\n",
    "\n",
    "        toplt = pd.concat([toplt, res_df[['u0_m0_base_asset_amount']]],axis=1)\n",
    "        toplt['u0_m0_base_asset_amount']/=1e13\n",
    "        # toplt['user0.quote_asset_amount']/=1e6\n",
    "    toplt['m0_peg_multiplier']/=1e3\n",
    "\n",
    "    # toplt['base_asset_amount']/=1e13\n",
    "    fig = toplt.plot(title=sim_i.clearing_house.name)\n",
    "    fig.show()"
   ]
  },
  {
   "cell_type": "markdown",
   "id": "0287495d-c8fe-402d-9310-00ea70f90b85",
   "metadata": {},
   "source": [
    "# examine market information"
   ]
  },
  {
   "cell_type": "code",
   "execution_count": null,
   "id": "ffb04bdc-9b6f-46ee-bf16-5f2765d729f8",
   "metadata": {},
   "outputs": [],
   "source": [
    "(res_df[['m0_total_fee', 'm0_total_fee_minus_distributions']]).head(5000).plot()"
   ]
  },
  {
   "cell_type": "code",
   "execution_count": null,
   "id": "8dfdb795-e050-4405-8e73-198ee56d668c",
   "metadata": {},
   "outputs": [],
   "source": [
    "(res_df['m0_quote_asset_reserve'].astype(int)/res_df['m0_base_asset_reserve'].astype(int)).plot()"
   ]
  },
  {
   "cell_type": "code",
   "execution_count": null,
   "id": "b266ff18-838f-46a6-82c8-64176a12e681",
   "metadata": {},
   "outputs": [],
   "source": [
    "res_df[['m0_base_asset_reserve', 'm0_quote_asset_reserve', 'm0_sqrt_k',]].astype(int).plot()"
   ]
  },
  {
   "cell_type": "markdown",
   "id": "1c734905-e08d-4f00-8bb4-ffe1b34b5ea1",
   "metadata": {},
   "source": [
    "run rust impl simulation using events.csv from python sim"
   ]
  },
  {
   "cell_type": "code",
   "execution_count": null,
   "id": "28572f10-52fe-48de-9f15-95b999cfc342",
   "metadata": {},
   "outputs": [],
   "source": [
    "# ! cd protocol-v1/ && bash stress/run_local_sim.sh ../sim-results/sim-solhist/chPrepeg_1000.0"
   ]
  },
  {
   "cell_type": "code",
   "execution_count": null,
   "id": "ca4b4a83-5bbc-4069-8ab6-713810966dd6",
   "metadata": {},
   "outputs": [],
   "source": [
    "user = 'u1'\n",
    "(res_df[[user+'_'+x for x in ['collateral',\n",
    "       # 'u0_m0_upnl', \n",
    "         'total_collateral',\n",
    "       'm0_ufunding',\n",
    "       'm0_base_asset_amount',\n",
    "         # 'user0.free_collateral',\n",
    "       # 'user0.margin_ratio', 'user0.total_position_value'\n",
    "       ]]]/1e6 - 10e6).plot()"
   ]
  },
  {
   "cell_type": "code",
   "execution_count": null,
   "id": "168bd850-c9cc-487c-a64a-5355f7779c93",
   "metadata": {},
   "outputs": [],
   "source": [
    "res_df[['m0_cumulative_funding_rate_long']].plot()"
   ]
  },
  {
   "cell_type": "markdown",
   "id": "a6d674b4-8ca7-4109-9d92-3784dc234480",
   "metadata": {},
   "source": [
    "examine funding rate information"
   ]
  },
  {
   "cell_type": "code",
   "execution_count": null,
   "id": "706f8181-9e7e-4f61-b686-e7f2cadcd7f1",
   "metadata": {},
   "outputs": [],
   "source": [
    "print(res_df.columns)\n",
    "r = res_df[['m0_last_oracle_price_twap',\n",
    "       'm0_last_mark_price_twap',\n",
    "        'm0_last_bid_price_twap',\n",
    "            'm0_last_ask_price_twap',\n",
    "       'm0_last_mid_price_twap',\n",
    "       ]]\n",
    "# r = res_df[['oracle_price',\n",
    "#        'mark_price',\n",
    "#         'bid_price',\n",
    "#             'ask_price',\n",
    "#        ]]\n",
    "# r['mid_price'] = (r['bid_price']+r['ask_price'])/2\n",
    "r.plot()"
   ]
  },
  {
   "cell_type": "code",
   "execution_count": null,
   "id": "96935d2c-0fc7-45b5-8aff-640becb48107",
   "metadata": {},
   "outputs": [],
   "source": [
    "res_df[['m0_predicted_long_funding','m0_predicted_short_funding']].plot()"
   ]
  },
  {
   "cell_type": "code",
   "execution_count": null,
   "id": "9cdb6fa3-49cf-43b1-9637-f62927cdbcda",
   "metadata": {},
   "outputs": [],
   "source": []
  }
 ],
 "metadata": {
  "interpreter": {
   "hash": "6b5e5d5c363a49cf05c628b29c6950f5ebd1e8f243a077ddff4742cde8b189bd"
  },
  "kernelspec": {
   "display_name": "Python 3 (ipykernel)",
   "language": "python",
   "name": "python3"
  },
  "language_info": {
   "codemirror_mode": {
    "name": "ipython",
    "version": 3
   },
   "file_extension": ".py",
   "mimetype": "text/x-python",
   "name": "python",
   "nbconvert_exporter": "python",
   "pygments_lexer": "ipython3",
   "version": "3.9.8"
  }
 },
 "nbformat": 4,
 "nbformat_minor": 5
}
